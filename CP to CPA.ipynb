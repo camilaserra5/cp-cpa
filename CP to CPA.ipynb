{
 "cells": [
  {
   "cell_type": "code",
   "execution_count": 1,
   "id": "66464b7a",
   "metadata": {},
   "outputs": [],
   "source": [
    "import pandas as pd\n",
    "import difflib"
   ]
  },
  {
   "cell_type": "code",
   "execution_count": 2,
   "id": "bfea6abc",
   "metadata": {},
   "outputs": [
    {
     "data": {
      "text/html": [
       "<div>\n",
       "<style scoped>\n",
       "    .dataframe tbody tr th:only-of-type {\n",
       "        vertical-align: middle;\n",
       "    }\n",
       "\n",
       "    .dataframe tbody tr th {\n",
       "        vertical-align: top;\n",
       "    }\n",
       "\n",
       "    .dataframe thead th {\n",
       "        text-align: right;\n",
       "    }\n",
       "</style>\n",
       "<table border=\"1\" class=\"dataframe\">\n",
       "  <thead>\n",
       "    <tr style=\"text-align: right;\">\n",
       "      <th></th>\n",
       "      <th>CALLE</th>\n",
       "      <th>DESDE</th>\n",
       "      <th>HASTA</th>\n",
       "      <th>PAR</th>\n",
       "      <th>CP</th>\n",
       "      <th>CPA</th>\n",
       "      <th>PROVINCIA</th>\n",
       "      <th>LOCALIDAD</th>\n",
       "    </tr>\n",
       "  </thead>\n",
       "  <tbody>\n",
       "    <tr>\n",
       "      <th>0</th>\n",
       "      <td>calle juana de ibarbourou</td>\n",
       "      <td>1001</td>\n",
       "      <td>1099</td>\n",
       "      <td>False</td>\n",
       "      <td>1405</td>\n",
       "      <td>C1405BZA</td>\n",
       "      <td>capital-federal</td>\n",
       "      <td>ciudad-autonoma-buenos-aires</td>\n",
       "    </tr>\n",
       "  </tbody>\n",
       "</table>\n",
       "</div>"
      ],
      "text/plain": [
       "                       CALLE  DESDE  HASTA    PAR    CP       CPA  \\\n",
       "0  calle juana de ibarbourou   1001   1099  False  1405  C1405BZA   \n",
       "\n",
       "         PROVINCIA                     LOCALIDAD  \n",
       "0  capital-federal  ciudad-autonoma-buenos-aires  "
      ]
     },
     "execution_count": 2,
     "metadata": {},
     "output_type": "execute_result"
    }
   ],
   "source": [
    "## DATA FRAME DE TODO\n",
    "df1 = pd.read_csv('CABA-CPAS.txt')\n",
    "df2 = pd.read_csv('BSAS-CPAS.txt')\n",
    "df = pd.concat([df1, df2])\n",
    "df['CP'] = pd.to_numeric(df['CP'])\n",
    "\n",
    "df['CALLE'] = df['CALLE'].str.lower()\n",
    "df['PAR'] = df['PAR']=='números pares'\n",
    "df.head(1)"
   ]
  },
  {
   "cell_type": "code",
   "execution_count": 3,
   "id": "12d87973",
   "metadata": {},
   "outputs": [
    {
     "data": {
      "text/html": [
       "<div>\n",
       "<style scoped>\n",
       "    .dataframe tbody tr th:only-of-type {\n",
       "        vertical-align: middle;\n",
       "    }\n",
       "\n",
       "    .dataframe tbody tr th {\n",
       "        vertical-align: top;\n",
       "    }\n",
       "\n",
       "    .dataframe thead th {\n",
       "        text-align: right;\n",
       "    }\n",
       "</style>\n",
       "<table border=\"1\" class=\"dataframe\">\n",
       "  <thead>\n",
       "    <tr style=\"text-align: right;\">\n",
       "      <th></th>\n",
       "      <th>CALLE</th>\n",
       "      <th>NUM</th>\n",
       "      <th>LOCALIDAD</th>\n",
       "      <th>PROV</th>\n",
       "      <th>CP</th>\n",
       "      <th>PAR</th>\n",
       "    </tr>\n",
       "  </thead>\n",
       "  <tbody>\n",
       "    <tr>\n",
       "      <th>0</th>\n",
       "      <td>olleros</td>\n",
       "      <td>1800.0</td>\n",
       "      <td>Palermo</td>\n",
       "      <td>Buenos Aires</td>\n",
       "      <td>1426</td>\n",
       "      <td>True</td>\n",
       "    </tr>\n",
       "  </tbody>\n",
       "</table>\n",
       "</div>"
      ],
      "text/plain": [
       "     CALLE     NUM LOCALIDAD          PROV    CP   PAR\n",
       "0  olleros  1800.0  Palermo   Buenos Aires  1426  True"
      ]
     },
     "execution_count": 3,
     "metadata": {},
     "output_type": "execute_result"
    }
   ],
   "source": [
    "## DATA FRAME MUESTRA USERS\n",
    "df_test = pd.read_csv('lemoncash_ar_Accounts.csv')\n",
    "df_test['CALLE'] = df_test['CALLE'].str.lower()\n",
    "df_test['PAR'] = (df_test['NUM'] % 2) == 0\n",
    "df_test = pd.concat([df_test[df_test['PROV'] == 'Buenos Aires'],df_test[df_test['PROV'] == 'Provincia de Buenos Aires']])\n",
    "df_test.head(1)"
   ]
  },
  {
   "cell_type": "code",
   "execution_count": 4,
   "id": "f13cf0fe",
   "metadata": {},
   "outputs": [
    {
     "data": {
      "text/plain": [
       "438"
      ]
     },
     "execution_count": 4,
     "metadata": {},
     "output_type": "execute_result"
    }
   ],
   "source": [
    "df_test.count()[0]"
   ]
  },
  {
   "cell_type": "code",
   "execution_count": 5,
   "id": "e3472cba",
   "metadata": {},
   "outputs": [],
   "source": [
    "# Funcion para buscar la mejor coincidencia de nombre de calle\n",
    "def check(x):\n",
    "    df_new = df.loc[df['CP'] == x['CP']]\n",
    "    bestmatch = difflib.get_close_matches(x['CALLE'], df_new['CALLE'], 1, 0.3)\n",
    "    return bestmatch"
   ]
  },
  {
   "cell_type": "code",
   "execution_count": 6,
   "id": "d716e30f",
   "metadata": {},
   "outputs": [
    {
     "data": {
      "text/html": [
       "<div>\n",
       "<style scoped>\n",
       "    .dataframe tbody tr th:only-of-type {\n",
       "        vertical-align: middle;\n",
       "    }\n",
       "\n",
       "    .dataframe tbody tr th {\n",
       "        vertical-align: top;\n",
       "    }\n",
       "\n",
       "    .dataframe thead th {\n",
       "        text-align: right;\n",
       "    }\n",
       "</style>\n",
       "<table border=\"1\" class=\"dataframe\">\n",
       "  <thead>\n",
       "    <tr style=\"text-align: right;\">\n",
       "      <th></th>\n",
       "      <th>CALLE</th>\n",
       "      <th>NUM</th>\n",
       "      <th>LOCALIDAD</th>\n",
       "      <th>PROV</th>\n",
       "      <th>CP</th>\n",
       "      <th>PAR</th>\n",
       "      <th>bestmatch</th>\n",
       "    </tr>\n",
       "  </thead>\n",
       "  <tbody>\n",
       "    <tr>\n",
       "      <th>0</th>\n",
       "      <td>olleros</td>\n",
       "      <td>1800.0</td>\n",
       "      <td>Palermo</td>\n",
       "      <td>Buenos Aires</td>\n",
       "      <td>1426</td>\n",
       "      <td>True</td>\n",
       "      <td>[calle olleros]</td>\n",
       "    </tr>\n",
       "    <tr>\n",
       "      <th>25</th>\n",
       "      <td>calle muzilli</td>\n",
       "      <td>1235.0</td>\n",
       "      <td>Pilar Centro</td>\n",
       "      <td>Buenos Aires</td>\n",
       "      <td>1635</td>\n",
       "      <td>False</td>\n",
       "      <td>[calle italia]</td>\n",
       "    </tr>\n",
       "    <tr>\n",
       "      <th>27</th>\n",
       "      <td>maipú</td>\n",
       "      <td>812.0</td>\n",
       "      <td>Comuna 1</td>\n",
       "      <td>Buenos Aires</td>\n",
       "      <td>1057</td>\n",
       "      <td>True</td>\n",
       "      <td>[]</td>\n",
       "    </tr>\n",
       "    <tr>\n",
       "      <th>28</th>\n",
       "      <td>corrientes</td>\n",
       "      <td>NaN</td>\n",
       "      <td>Buenos Aires</td>\n",
       "      <td>Buenos Aires</td>\n",
       "      <td>3365</td>\n",
       "      <td>False</td>\n",
       "      <td>[]</td>\n",
       "    </tr>\n",
       "    <tr>\n",
       "      <th>34</th>\n",
       "      <td>bolivia</td>\n",
       "      <td>3750.0</td>\n",
       "      <td>Comuna 15</td>\n",
       "      <td>Buenos Aires</td>\n",
       "      <td>1419</td>\n",
       "      <td>True</td>\n",
       "      <td>[calle bolivia]</td>\n",
       "    </tr>\n",
       "  </tbody>\n",
       "</table>\n",
       "</div>"
      ],
      "text/plain": [
       "            CALLE     NUM     LOCALIDAD          PROV    CP    PAR  \\\n",
       "0         olleros  1800.0      Palermo   Buenos Aires  1426   True   \n",
       "25  calle muzilli  1235.0  Pilar Centro  Buenos Aires  1635  False   \n",
       "27          maipú   812.0      Comuna 1  Buenos Aires  1057   True   \n",
       "28     corrientes     NaN  Buenos Aires  Buenos Aires  3365  False   \n",
       "34        bolivia  3750.0     Comuna 15  Buenos Aires  1419   True   \n",
       "\n",
       "          bestmatch  \n",
       "0   [calle olleros]  \n",
       "25   [calle italia]  \n",
       "27               []  \n",
       "28               []  \n",
       "34  [calle bolivia]  "
      ]
     },
     "execution_count": 6,
     "metadata": {},
     "output_type": "execute_result"
    }
   ],
   "source": [
    "## Busco la calle más similar en mi dataset \n",
    "df_test['bestmatch'] = df_test.apply(lambda x: check(x), axis=1)\n",
    "df_test.head()"
   ]
  },
  {
   "cell_type": "code",
   "execution_count": 7,
   "id": "07f7ab72",
   "metadata": {},
   "outputs": [
    {
     "data": {
      "text/plain": [
       "371"
      ]
     },
     "execution_count": 7,
     "metadata": {},
     "output_type": "execute_result"
    }
   ],
   "source": [
    "# Me quedo solo con los que encontré una calle similar\n",
    "df_test = df_test[df_test['bestmatch'].str.len()>0]\n",
    "df_test.count()[0]"
   ]
  },
  {
   "cell_type": "code",
   "execution_count": null,
   "id": "a8f7e0e3",
   "metadata": {},
   "outputs": [],
   "source": []
  },
  {
   "cell_type": "code",
   "execution_count": 8,
   "id": "afda96c8",
   "metadata": {},
   "outputs": [],
   "source": [
    "# Funcion para buscar el CPA\n",
    "def find(x):\n",
    "    df_new = df[df['CALLE'] == x['bestmatch'][0]]\n",
    "    df_new = df_new[df_new['CP'] == x['CP']]\n",
    "    df_new = df_new[(df_new[\"DESDE\"]<=x['NUM']) & (df_new[\"HASTA\"]>=x['NUM'])]\n",
    "    df_new = df_new[df_new['PAR']==x['PAR']]\n",
    "    return df_new['CPA'].values\n"
   ]
  },
  {
   "cell_type": "code",
   "execution_count": null,
   "id": "3477783b",
   "metadata": {},
   "outputs": [],
   "source": []
  },
  {
   "cell_type": "code",
   "execution_count": 9,
   "id": "cfb9c7ad",
   "metadata": {},
   "outputs": [],
   "source": [
    "## Busco el CPA\n",
    "df_test['CPA Obtenido'] = df_test.apply(lambda x: find(x), axis=1)"
   ]
  },
  {
   "cell_type": "code",
   "execution_count": 10,
   "id": "81b85006",
   "metadata": {},
   "outputs": [
    {
     "data": {
      "text/html": [
       "<div>\n",
       "<style scoped>\n",
       "    .dataframe tbody tr th:only-of-type {\n",
       "        vertical-align: middle;\n",
       "    }\n",
       "\n",
       "    .dataframe tbody tr th {\n",
       "        vertical-align: top;\n",
       "    }\n",
       "\n",
       "    .dataframe thead th {\n",
       "        text-align: right;\n",
       "    }\n",
       "</style>\n",
       "<table border=\"1\" class=\"dataframe\">\n",
       "  <thead>\n",
       "    <tr style=\"text-align: right;\">\n",
       "      <th></th>\n",
       "      <th>CALLE</th>\n",
       "      <th>NUM</th>\n",
       "      <th>LOCALIDAD</th>\n",
       "      <th>PROV</th>\n",
       "      <th>CP</th>\n",
       "      <th>PAR</th>\n",
       "      <th>bestmatch</th>\n",
       "      <th>CPA Obtenido</th>\n",
       "    </tr>\n",
       "  </thead>\n",
       "  <tbody>\n",
       "    <tr>\n",
       "      <th>0</th>\n",
       "      <td>olleros</td>\n",
       "      <td>1800.0</td>\n",
       "      <td>Palermo</td>\n",
       "      <td>Buenos Aires</td>\n",
       "      <td>1426</td>\n",
       "      <td>True</td>\n",
       "      <td>[calle olleros]</td>\n",
       "      <td>[C1426CRF]</td>\n",
       "    </tr>\n",
       "    <tr>\n",
       "      <th>25</th>\n",
       "      <td>calle muzilli</td>\n",
       "      <td>1235.0</td>\n",
       "      <td>Pilar Centro</td>\n",
       "      <td>Buenos Aires</td>\n",
       "      <td>1635</td>\n",
       "      <td>False</td>\n",
       "      <td>[calle italia]</td>\n",
       "      <td>[B1635ILC]</td>\n",
       "    </tr>\n",
       "    <tr>\n",
       "      <th>34</th>\n",
       "      <td>bolivia</td>\n",
       "      <td>3750.0</td>\n",
       "      <td>Comuna 15</td>\n",
       "      <td>Buenos Aires</td>\n",
       "      <td>1419</td>\n",
       "      <td>True</td>\n",
       "      <td>[calle bolivia]</td>\n",
       "      <td>[C1419DTF]</td>\n",
       "    </tr>\n",
       "    <tr>\n",
       "      <th>35</th>\n",
       "      <td>maipú</td>\n",
       "      <td>407.0</td>\n",
       "      <td>Comuna 1</td>\n",
       "      <td>Buenos Aires</td>\n",
       "      <td>1006</td>\n",
       "      <td>False</td>\n",
       "      <td>[calle maipu]</td>\n",
       "      <td>[C1006ACC]</td>\n",
       "    </tr>\n",
       "    <tr>\n",
       "      <th>53</th>\n",
       "      <td>enrique ochoa</td>\n",
       "      <td>1052.0</td>\n",
       "      <td>Comuna 4</td>\n",
       "      <td>Buenos Aires</td>\n",
       "      <td>1437</td>\n",
       "      <td>True</td>\n",
       "      <td>[calle enrique ochoa]</td>\n",
       "      <td>[C1437DUR]</td>\n",
       "    </tr>\n",
       "  </tbody>\n",
       "</table>\n",
       "</div>"
      ],
      "text/plain": [
       "            CALLE     NUM     LOCALIDAD          PROV    CP    PAR  \\\n",
       "0         olleros  1800.0      Palermo   Buenos Aires  1426   True   \n",
       "25  calle muzilli  1235.0  Pilar Centro  Buenos Aires  1635  False   \n",
       "34        bolivia  3750.0     Comuna 15  Buenos Aires  1419   True   \n",
       "35          maipú   407.0      Comuna 1  Buenos Aires  1006  False   \n",
       "53  enrique ochoa  1052.0      Comuna 4  Buenos Aires  1437   True   \n",
       "\n",
       "                bestmatch CPA Obtenido  \n",
       "0         [calle olleros]   [C1426CRF]  \n",
       "25         [calle italia]   [B1635ILC]  \n",
       "34        [calle bolivia]   [C1419DTF]  \n",
       "35          [calle maipu]   [C1006ACC]  \n",
       "53  [calle enrique ochoa]   [C1437DUR]  "
      ]
     },
     "execution_count": 10,
     "metadata": {},
     "output_type": "execute_result"
    }
   ],
   "source": [
    "## Los que tienen CPA\n",
    "df_test = df_test[df_test['CPA Obtenido'].str.len()>0]\n",
    "df_test.head()"
   ]
  },
  {
   "cell_type": "code",
   "execution_count": 11,
   "id": "9f4d9571",
   "metadata": {},
   "outputs": [],
   "source": [
    "df_test.to_csv('cpas.csv', sep='\\t')"
   ]
  },
  {
   "cell_type": "code",
   "execution_count": null,
   "id": "66f32a50",
   "metadata": {},
   "outputs": [],
   "source": []
  },
  {
   "cell_type": "code",
   "execution_count": null,
   "id": "2d94d0a7",
   "metadata": {},
   "outputs": [],
   "source": []
  }
 ],
 "metadata": {
  "kernelspec": {
   "display_name": "Python 3 (ipykernel)",
   "language": "python",
   "name": "python3"
  },
  "language_info": {
   "codemirror_mode": {
    "name": "ipython",
    "version": 3
   },
   "file_extension": ".py",
   "mimetype": "text/x-python",
   "name": "python",
   "nbconvert_exporter": "python",
   "pygments_lexer": "ipython3",
   "version": "3.8.9"
  }
 },
 "nbformat": 4,
 "nbformat_minor": 5
}
