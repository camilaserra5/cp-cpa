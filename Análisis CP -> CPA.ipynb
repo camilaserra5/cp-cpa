{
 "cells": [
  {
   "cell_type": "code",
   "execution_count": 1,
   "id": "664c689a",
   "metadata": {},
   "outputs": [],
   "source": [
    "from bs4 import BeautifulSoup\n",
    "from fuzzywuzzy import fuzz\n",
    "from fuzzywuzzy import process\n",
    "import requests\n",
    "import re\n",
    "import pandas as pd\n",
    "import csv\n",
    "import difflib\n",
    "pd.options.display.max_colwidth = 1000"
   ]
  },
  {
   "cell_type": "markdown",
   "id": "08993c41",
   "metadata": {},
   "source": [
    "### csv con los datos scrappeados de https://codigo-postal.co/argentina/"
   ]
  },
  {
   "cell_type": "code",
   "execution_count": 2,
   "id": "5d69cbe8",
   "metadata": {},
   "outputs": [
    {
     "data": {
      "text/html": [
       "<div>\n",
       "<style scoped>\n",
       "    .dataframe tbody tr th:only-of-type {\n",
       "        vertical-align: middle;\n",
       "    }\n",
       "\n",
       "    .dataframe tbody tr th {\n",
       "        vertical-align: top;\n",
       "    }\n",
       "\n",
       "    .dataframe thead th {\n",
       "        text-align: right;\n",
       "    }\n",
       "</style>\n",
       "<table border=\"1\" class=\"dataframe\">\n",
       "  <thead>\n",
       "    <tr style=\"text-align: right;\">\n",
       "      <th></th>\n",
       "      <th>calle</th>\n",
       "      <th>desde</th>\n",
       "      <th>hasta</th>\n",
       "      <th>par</th>\n",
       "      <th>cp</th>\n",
       "      <th>cpa</th>\n",
       "      <th>provincia</th>\n",
       "      <th>localidad</th>\n",
       "    </tr>\n",
       "  </thead>\n",
       "  <tbody>\n",
       "    <tr>\n",
       "      <th>2515944</th>\n",
       "      <td>Calle Simona de Lopez</td>\n",
       "      <td>2</td>\n",
       "      <td>100</td>\n",
       "      <td>True</td>\n",
       "      <td>4124</td>\n",
       "      <td>T4127BHB</td>\n",
       "      <td>https://codigo-postal.co/argentina/tucuman/</td>\n",
       "      <td>https://codigo-postal.co/argentina/tucuman/villa-trancas/</td>\n",
       "    </tr>\n",
       "  </tbody>\n",
       "</table>\n",
       "</div>"
      ],
      "text/plain": [
       "                         calle  desde  hasta   par    cp       cpa  \\\n",
       "2515944  Calle Simona de Lopez      2    100  True  4124  T4127BHB   \n",
       "\n",
       "                                           provincia  \\\n",
       "2515944  https://codigo-postal.co/argentina/tucuman/   \n",
       "\n",
       "                                                         localidad  \n",
       "2515944  https://codigo-postal.co/argentina/tucuman/villa-trancas/  "
      ]
     },
     "execution_count": 2,
     "metadata": {},
     "output_type": "execute_result"
    }
   ],
   "source": [
    "df = pd.read_csv('codigos-postales-arg.csv')\n",
    "df = df.drop('index', axis=1)\n",
    "df = df.drop('Unnamed: 0', axis=1)\n",
    "df.tail(1)"
   ]
  },
  {
   "cell_type": "markdown",
   "id": "cbf78a66",
   "metadata": {},
   "source": [
    "#### limpio los datos"
   ]
  },
  {
   "cell_type": "code",
   "execution_count": 3,
   "id": "c331c691",
   "metadata": {},
   "outputs": [
    {
     "data": {
      "text/html": [
       "<div>\n",
       "<style scoped>\n",
       "    .dataframe tbody tr th:only-of-type {\n",
       "        vertical-align: middle;\n",
       "    }\n",
       "\n",
       "    .dataframe tbody tr th {\n",
       "        vertical-align: top;\n",
       "    }\n",
       "\n",
       "    .dataframe thead th {\n",
       "        text-align: right;\n",
       "    }\n",
       "</style>\n",
       "<table border=\"1\" class=\"dataframe\">\n",
       "  <thead>\n",
       "    <tr style=\"text-align: right;\">\n",
       "      <th></th>\n",
       "      <th>calle</th>\n",
       "      <th>desde</th>\n",
       "      <th>hasta</th>\n",
       "      <th>par</th>\n",
       "      <th>cp</th>\n",
       "      <th>cpa</th>\n",
       "      <th>provincia</th>\n",
       "      <th>localidad</th>\n",
       "    </tr>\n",
       "  </thead>\n",
       "  <tbody>\n",
       "    <tr>\n",
       "      <th>2515944</th>\n",
       "      <td>calle simona de lopez</td>\n",
       "      <td>2</td>\n",
       "      <td>100</td>\n",
       "      <td>True</td>\n",
       "      <td>4124</td>\n",
       "      <td>T4127BHB</td>\n",
       "      <td>tucuman</td>\n",
       "      <td>villa trancas</td>\n",
       "    </tr>\n",
       "  </tbody>\n",
       "</table>\n",
       "</div>"
      ],
      "text/plain": [
       "                         calle  desde  hasta   par    cp       cpa provincia  \\\n",
       "2515944  calle simona de lopez      2    100  True  4124  T4127BHB   tucuman   \n",
       "\n",
       "             localidad  \n",
       "2515944  villa trancas  "
      ]
     },
     "execution_count": 3,
     "metadata": {},
     "output_type": "execute_result"
    }
   ],
   "source": [
    "def removeURL(x, num):\n",
    "    prov = x.split('/')\n",
    "    if (len(prov)==1):\n",
    "        return prov[0]\n",
    "    return prov[num]\n",
    "\n",
    "df['provincia'] = df['provincia'].apply(lambda x: removeURL(x, 4))\n",
    "df['localidad'] = df['localidad'].apply(lambda x: removeURL(x, 5))\n",
    "df['localidad'] = df['localidad'].str.replace('-', ' ')\n",
    "df['localidad'] = df['localidad'].str.lower()\n",
    "df['calle'] = df['calle'].str.lower()\n",
    "\n",
    "df.tail(1)"
   ]
  },
  {
   "cell_type": "markdown",
   "id": "6c6d200c",
   "metadata": {},
   "source": [
    "### csv con users de Lemon"
   ]
  },
  {
   "cell_type": "code",
   "execution_count": 4,
   "id": "f68b9ff0",
   "metadata": {},
   "outputs": [
    {
     "data": {
      "text/html": [
       "<div>\n",
       "<style scoped>\n",
       "    .dataframe tbody tr th:only-of-type {\n",
       "        vertical-align: middle;\n",
       "    }\n",
       "\n",
       "    .dataframe tbody tr th {\n",
       "        vertical-align: top;\n",
       "    }\n",
       "\n",
       "    .dataframe thead th {\n",
       "        text-align: right;\n",
       "    }\n",
       "</style>\n",
       "<table border=\"1\" class=\"dataframe\">\n",
       "  <thead>\n",
       "    <tr style=\"text-align: right;\">\n",
       "      <th></th>\n",
       "      <th>calle</th>\n",
       "      <th>num</th>\n",
       "      <th>localidad</th>\n",
       "      <th>prov</th>\n",
       "      <th>cp</th>\n",
       "      <th>par</th>\n",
       "    </tr>\n",
       "  </thead>\n",
       "  <tbody>\n",
       "    <tr>\n",
       "      <th>0</th>\n",
       "      <td>olleros</td>\n",
       "      <td>1800.0</td>\n",
       "      <td>Palermo</td>\n",
       "      <td>Buenos Aires</td>\n",
       "      <td>1426</td>\n",
       "      <td>True</td>\n",
       "    </tr>\n",
       "  </tbody>\n",
       "</table>\n",
       "</div>"
      ],
      "text/plain": [
       "     calle     num localidad          prov    cp   par\n",
       "0  olleros  1800.0  Palermo   Buenos Aires  1426  True"
      ]
     },
     "execution_count": 4,
     "metadata": {},
     "output_type": "execute_result"
    }
   ],
   "source": [
    "df_lemon = pd.read_csv('lemoncash_ar_Accounts.csv')\n",
    "df_lemon.columns = ['calle', 'num', 'localidad', 'prov', 'cp']\n",
    "df_lemon['calle'] = df_lemon['calle'].str.lower()\n",
    "df_lemon['par'] = (df_lemon['num'] % 2) == 0\n",
    "df_lemon.head(1)"
   ]
  },
  {
   "cell_type": "markdown",
   "id": "3e8430d3",
   "metadata": {},
   "source": [
    "#### normalizo todo para sacar tildes y ñ"
   ]
  },
  {
   "cell_type": "code",
   "execution_count": 5,
   "id": "2427279b",
   "metadata": {},
   "outputs": [],
   "source": [
    "def normalize(s):\n",
    "    replacements = (\n",
    "        (\"á\", \"a\"),\n",
    "        (\"é\", \"e\"),\n",
    "        (\"í\", \"i\"),\n",
    "        (\"ó\", \"o\"),\n",
    "        (\"ú\", \"u\"),\n",
    "        (\"ñ\", \"n\")\n",
    "    )\n",
    "    for a, b in replacements:\n",
    "        s = s.replace(a, b).replace(a.upper(), b.upper())\n",
    "    return s\n",
    "\n",
    "df_lemon['calle'] = df_lemon['calle'].apply(lambda x: normalize(str(x)))\n",
    "df['provincia'] = df['provincia'].apply(lambda x: normalize(str(x)))\n",
    "df['localidad'] = df['localidad'].apply(lambda x: normalize(str(x)))\n",
    "df['calle'] = df['calle'].apply(lambda x: normalize(str(x)))"
   ]
  },
  {
   "cell_type": "markdown",
   "id": "ea237077",
   "metadata": {},
   "source": [
    "#### Busco la letra de la prov (primer caracter del CPA)"
   ]
  },
  {
   "cell_type": "code",
   "execution_count": 6,
   "id": "29b585c8",
   "metadata": {},
   "outputs": [],
   "source": [
    "def province_letter(y):\n",
    "    x = y['prov']\n",
    "    if x == 'Salta':\n",
    "        return 'A'\n",
    "    elif x == 'Provincia de Buenos Aires':\n",
    "        return 'B'\n",
    "    elif x == 'Buenos Aires':\n",
    "        return 'C'\n",
    "    elif x == 'San Luis':\n",
    "        return 'D'\n",
    "    elif x == 'Entre Ríos':\n",
    "        return 'E'\n",
    "    elif x == 'La Rioja':\n",
    "        return 'F'\n",
    "    elif x == 'Santiago del Estero':\n",
    "        return 'G'\n",
    "    elif x == 'Chaco':\n",
    "        return 'H'\n",
    "    elif x == 'San Juan':\n",
    "        return 'J'\n",
    "    elif x == 'Catamarca':\n",
    "        return 'K'\n",
    "    elif x == 'La Pampa':\n",
    "        return 'L'\n",
    "    elif x == 'Mendoza':\n",
    "        return 'M'\n",
    "    elif x == 'Misiones':\n",
    "        return 'N'\n",
    "    elif x == 'Formosa':\n",
    "        return 'P'\n",
    "    elif x == 'Neuquén':\n",
    "        return 'Q'\n",
    "    elif x == 'Río Negro':\n",
    "        return 'R'\n",
    "    elif x == 'Santa Fe':\n",
    "        return 'S'\n",
    "    elif x == 'Tucumán':\n",
    "        return 'T'\n",
    "    elif x == 'Chubut':\n",
    "        return 'U'\n",
    "    elif x == 'Tierra del Fuego':\n",
    "        return 'V'\n",
    "    elif x == 'Corrientes':\n",
    "        return 'W'\n",
    "    elif x == 'Córdoba':\n",
    "        return 'X'\n",
    "    elif x == 'Jujuy':\n",
    "        return 'Y'\n",
    "    elif x == 'Santa Cruz':\n",
    "        return 'Z'\n",
    "    return ''"
   ]
  },
  {
   "cell_type": "code",
   "execution_count": 7,
   "id": "6194269a",
   "metadata": {},
   "outputs": [],
   "source": [
    "df_lemon['letra'] = df_lemon.apply(lambda x: province_letter(x), axis=1)"
   ]
  },
  {
   "cell_type": "code",
   "execution_count": 8,
   "id": "f664b3c2",
   "metadata": {},
   "outputs": [],
   "source": [
    "df['alt-cp'] = df['cpa'].str[1:5]\n",
    "df['alt-cp'] = pd.to_numeric(df['alt-cp'])"
   ]
  },
  {
   "cell_type": "markdown",
   "id": "d4af79ce",
   "metadata": {},
   "source": [
    "### Funciones para buscar la mejor coincidencia de nombre de calle\n"
   ]
  },
  {
   "cell_type": "code",
   "execution_count": 9,
   "id": "1c34664f",
   "metadata": {},
   "outputs": [],
   "source": [
    "### Busca la calle más parecida dentro del subconjunto con el mismo CP\n",
    "def closest_match_difflib(x):\n",
    "    try:\n",
    "        df_new = df.loc[df['cp'] == x['cp']]\n",
    "        bestmatch = difflib.get_close_matches(str(x['calle']), df_new['calle'], 1, 0.4)\n",
    "        if len(bestmatch)>0:\n",
    "            return bestmatch[0]\n",
    "        return ''\n",
    "    except:\n",
    "        return ''"
   ]
  },
  {
   "cell_type": "code",
   "execution_count": 10,
   "id": "1ccde83f",
   "metadata": {},
   "outputs": [],
   "source": [
    "## Idem anterior pero con otro algoritmo\n",
    "def closest_match_fuzzywuzzy(x):\n",
    "    try:\n",
    "        df_new = df.loc[x['letra']==df['cpa'].str[0:1]]\n",
    "        df_new = df.loc[df['cp'] == x['cp']]\n",
    "        bestmatch = process.extract(str(x['calle']), df_new['calle'], scorer=fuzz.token_sort_ratio, limit=1)\n",
    "        if len(bestmatch)>0 and bestmatch[0][1]>60:\n",
    "            return bestmatch[0][0]\n",
    "        return ''\n",
    "    except:\n",
    "        return ''\n",
    "\n",
    "## Idem anterior pero con otro algoritmo\n",
    "def closest_match_fuzzywuzzy2(x):\n",
    "    try:\n",
    "        df_new = df.loc[x['letra']==df['cpa'].str[0:1]]\n",
    "        df_new = df.loc[df['cp'] == x['cp']]\n",
    "        bestmatch = process.extract(str(x['calle']), df_new['calle'], scorer=fuzz.token_set_ratio, limit=1)\n",
    "        if len(bestmatch)>0 and bestmatch[0][1]>60:\n",
    "            return bestmatch[0][0]\n",
    "        return ''\n",
    "    except:\n",
    "        return ''\n"
   ]
  },
  {
   "cell_type": "code",
   "execution_count": 11,
   "id": "de8ca616",
   "metadata": {},
   "outputs": [
    {
     "data": {
      "text/html": [
       "<div>\n",
       "<style scoped>\n",
       "    .dataframe tbody tr th:only-of-type {\n",
       "        vertical-align: middle;\n",
       "    }\n",
       "\n",
       "    .dataframe tbody tr th {\n",
       "        vertical-align: top;\n",
       "    }\n",
       "\n",
       "    .dataframe thead th {\n",
       "        text-align: right;\n",
       "    }\n",
       "</style>\n",
       "<table border=\"1\" class=\"dataframe\">\n",
       "  <thead>\n",
       "    <tr style=\"text-align: right;\">\n",
       "      <th></th>\n",
       "      <th>calle</th>\n",
       "      <th>num</th>\n",
       "      <th>localidad</th>\n",
       "      <th>prov</th>\n",
       "      <th>cp</th>\n",
       "      <th>par</th>\n",
       "      <th>letra</th>\n",
       "      <th>bestmatch_difflib</th>\n",
       "      <th>bestmatch_fuzzywuzzy</th>\n",
       "      <th>bestmatch_fuzzywuzzy2</th>\n",
       "    </tr>\n",
       "  </thead>\n",
       "  <tbody>\n",
       "    <tr>\n",
       "      <th>0</th>\n",
       "      <td>olleros</td>\n",
       "      <td>1800.0</td>\n",
       "      <td>Palermo</td>\n",
       "      <td>Buenos Aires</td>\n",
       "      <td>1426</td>\n",
       "      <td>True</td>\n",
       "      <td>C</td>\n",
       "      <td>calle olleros</td>\n",
       "      <td>calle olleros</td>\n",
       "      <td>calle olleros</td>\n",
       "    </tr>\n",
       "    <tr>\n",
       "      <th>1</th>\n",
       "      <td>jose cortejarena</td>\n",
       "      <td>3383.0</td>\n",
       "      <td>La Reja</td>\n",
       "      <td>Provincia de Buenos Aires</td>\n",
       "      <td>1437</td>\n",
       "      <td>False</td>\n",
       "      <td>B</td>\n",
       "      <td>calle jose a cortejarena</td>\n",
       "      <td>calle jose a cortejarena</td>\n",
       "      <td>calle jose a cortejarena</td>\n",
       "    </tr>\n",
       "    <tr>\n",
       "      <th>2</th>\n",
       "      <td>calle 48</td>\n",
       "      <td>4175.0</td>\n",
       "      <td>Necochea</td>\n",
       "      <td>Provincia de Buenos Aires</td>\n",
       "      <td>7630</td>\n",
       "      <td>False</td>\n",
       "      <td>B</td>\n",
       "      <td>calle 48</td>\n",
       "      <td>calle 48</td>\n",
       "      <td>calle 48</td>\n",
       "    </tr>\n",
       "    <tr>\n",
       "      <th>3</th>\n",
       "      <td>americo vespucio</td>\n",
       "      <td>5220.0</td>\n",
       "      <td>Corrientes</td>\n",
       "      <td>Corrientes</td>\n",
       "      <td>3400</td>\n",
       "      <td>True</td>\n",
       "      <td>W</td>\n",
       "      <td>calle americo vespucio</td>\n",
       "      <td>calle americo vespucio</td>\n",
       "      <td>calle americo vespucio</td>\n",
       "    </tr>\n",
       "    <tr>\n",
       "      <th>4</th>\n",
       "      <td>unitan</td>\n",
       "      <td>553.0</td>\n",
       "      <td>Desvio Tirol</td>\n",
       "      <td>Chaco</td>\n",
       "      <td>3505</td>\n",
       "      <td>False</td>\n",
       "      <td>H</td>\n",
       "      <td>nan</td>\n",
       "      <td>nan</td>\n",
       "      <td>calle unitan</td>\n",
       "    </tr>\n",
       "  </tbody>\n",
       "</table>\n",
       "</div>"
      ],
      "text/plain": [
       "              calle     num     localidad                       prov    cp  \\\n",
       "0           olleros  1800.0      Palermo                Buenos Aires  1426   \n",
       "1  jose cortejarena  3383.0       La Reja  Provincia de Buenos Aires  1437   \n",
       "2          calle 48  4175.0      Necochea  Provincia de Buenos Aires  7630   \n",
       "3  americo vespucio  5220.0    Corrientes                 Corrientes  3400   \n",
       "4            unitan   553.0  Desvio Tirol                      Chaco  3505   \n",
       "\n",
       "     par letra         bestmatch_difflib      bestmatch_fuzzywuzzy  \\\n",
       "0   True     C             calle olleros             calle olleros   \n",
       "1  False     B  calle jose a cortejarena  calle jose a cortejarena   \n",
       "2  False     B                  calle 48                  calle 48   \n",
       "3   True     W    calle americo vespucio    calle americo vespucio   \n",
       "4  False     H                       nan                       nan   \n",
       "\n",
       "      bestmatch_fuzzywuzzy2  \n",
       "0             calle olleros  \n",
       "1  calle jose a cortejarena  \n",
       "2                  calle 48  \n",
       "3    calle americo vespucio  \n",
       "4              calle unitan  "
      ]
     },
     "execution_count": 11,
     "metadata": {},
     "output_type": "execute_result"
    }
   ],
   "source": [
    "df_lemon['bestmatch_difflib'] = df_lemon.apply(lambda x: closest_match_difflib(x), axis=1)\n",
    "df_lemon['bestmatch_fuzzywuzzy'] = df_lemon.apply(lambda x: closest_match_fuzzywuzzy(x), axis=1)\n",
    "df_lemon['bestmatch_fuzzywuzzy2'] = df_lemon.apply(lambda x: closest_match_fuzzywuzzy2(x), axis=1)\n",
    "df_lemon.head()"
   ]
  },
  {
   "cell_type": "markdown",
   "id": "278f6ddd",
   "metadata": {},
   "source": [
    "### Funcion para buscar el CPA"
   ]
  },
  {
   "cell_type": "code",
   "execution_count": 12,
   "id": "47ad6d44",
   "metadata": {},
   "outputs": [],
   "source": [
    "def find_CPA(x):\n",
    "    if x['bestmatch_fuzzywuzzy2'] == '':\n",
    "        return ''\n",
    "    df_calle = df[df['calle'] == x['bestmatch_fuzzywuzzy2']]\n",
    "    df_cp = df_calle[(df_calle['cp'] == x['cp']) | (df_calle['alt-cp'] == x['cp'])]\n",
    "    df_num = df_cp[(df_cp[\"desde\"]<=x['num']) & (df_cp[\"hasta\"]>=x['num'])]\n",
    "    df_par = df_num[df_num['par']==x['par']]\n",
    "    if len(df_par) != 0:\n",
    "        return df_par['cpa'].tolist()\n",
    "    \n",
    "    df_cp = df_calle[df_calle['cpa'].str[0:1] == x['letra']]\n",
    "    df_num = df_cp[(df_cp[\"desde\"]<=x['num']) & (df_cp[\"hasta\"]>=x['num'])]\n",
    "    df_par = df_num[df_num['par']==x['par']]\n",
    "    return df_par['cpa'].tolist()"
   ]
  },
  {
   "cell_type": "code",
   "execution_count": 13,
   "id": "a5eb0ef7",
   "metadata": {},
   "outputs": [],
   "source": [
    "pd.options.mode.chained_assignment = None\n",
    "df_lemon['cpa'] = df_lemon.apply(lambda x: find_CPA(x), axis=1)"
   ]
  },
  {
   "cell_type": "code",
   "execution_count": null,
   "id": "35fea055",
   "metadata": {},
   "outputs": [],
   "source": []
  },
  {
   "cell_type": "markdown",
   "id": "6faeb2c7",
   "metadata": {},
   "source": [
    "### Busco potenciales CPAs"
   ]
  },
  {
   "cell_type": "code",
   "execution_count": 14,
   "id": "899d15a2",
   "metadata": {},
   "outputs": [],
   "source": [
    "def find_CPAs(x):\n",
    "    if len(x['cpa'])>0:\n",
    "        return x['cpa']\n",
    "    df_new = df[(df['cp'] == x['cp']) | (df['alt-cp'] == x['cp'])]\n",
    "    df_new = df_new[df_new['cpa'].str[0:1] == x['letra']]\n",
    "    return df_new['cpa'].tolist()"
   ]
  },
  {
   "cell_type": "code",
   "execution_count": 15,
   "id": "97faaeb5",
   "metadata": {},
   "outputs": [],
   "source": [
    "pd.options.mode.chained_assignment = None\n",
    "df_lemon['cpa'] = df_lemon.apply(lambda x: find_CPAs(x), axis=1)"
   ]
  },
  {
   "cell_type": "code",
   "execution_count": 16,
   "id": "b17db7f8",
   "metadata": {},
   "outputs": [],
   "source": [
    "def to_unique_list(x):\n",
    "    return list(dict.fromkeys(x['cpa']))   "
   ]
  },
  {
   "cell_type": "code",
   "execution_count": 17,
   "id": "59a6f3df",
   "metadata": {},
   "outputs": [],
   "source": [
    "df_lemon['cpa'] = df_lemon.apply(lambda x: to_unique_list(x), axis=1)"
   ]
  },
  {
   "cell_type": "markdown",
   "id": "538a5219",
   "metadata": {},
   "source": [
    "### Exporto a csv"
   ]
  },
  {
   "cell_type": "code",
   "execution_count": 18,
   "id": "faf06249",
   "metadata": {},
   "outputs": [],
   "source": [
    "df_lemon.to_csv('resultados-cpas.csv', sep=',')"
   ]
  },
  {
   "cell_type": "code",
   "execution_count": null,
   "id": "f57190e2",
   "metadata": {},
   "outputs": [],
   "source": []
  },
  {
   "cell_type": "code",
   "execution_count": null,
   "id": "56beb59d",
   "metadata": {},
   "outputs": [],
   "source": []
  }
 ],
 "metadata": {
  "kernelspec": {
   "display_name": "Python 3 (ipykernel)",
   "language": "python",
   "name": "python3"
  },
  "language_info": {
   "codemirror_mode": {
    "name": "ipython",
    "version": 3
   },
   "file_extension": ".py",
   "mimetype": "text/x-python",
   "name": "python",
   "nbconvert_exporter": "python",
   "pygments_lexer": "ipython3",
   "version": "3.8.9"
  }
 },
 "nbformat": 4,
 "nbformat_minor": 5
}
