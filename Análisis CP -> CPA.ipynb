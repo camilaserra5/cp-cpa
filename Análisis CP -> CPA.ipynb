{
 "cells": [
  {
   "cell_type": "code",
   "execution_count": 1,
   "id": "664c689a",
   "metadata": {},
   "outputs": [],
   "source": [
    "from bs4 import BeautifulSoup\n",
    "from fuzzywuzzy import fuzz\n",
    "from fuzzywuzzy import process\n",
    "import requests\n",
    "import re\n",
    "import pandas as pd\n",
    "import csv\n",
    "import difflib\n",
    "pd.options.display.max_colwidth = 1000"
   ]
  },
  {
   "cell_type": "markdown",
   "id": "c9f0b10e",
   "metadata": {},
   "source": [
    "### csv con los datos scrappeados de https://codigo-postal.co/argentina/"
   ]
  },
  {
   "cell_type": "code",
   "execution_count": 2,
   "id": "5d69cbe8",
   "metadata": {},
   "outputs": [
    {
     "data": {
      "text/plain": [
       "(2523464, 8)"
      ]
     },
     "execution_count": 2,
     "metadata": {},
     "output_type": "execute_result"
    }
   ],
   "source": [
    "df = pd.read_csv('df-backup2.csv')\n",
    "df = df.drop('index', axis=1)\n",
    "df = df.drop('Unnamed: 0', axis=1)\n",
    "df.shape"
   ]
  },
  {
   "cell_type": "markdown",
   "id": "f44d6872",
   "metadata": {},
   "source": [
    "#### limpio los datos"
   ]
  },
  {
   "cell_type": "code",
   "execution_count": 3,
   "id": "c331c691",
   "metadata": {},
   "outputs": [
    {
     "data": {
      "text/html": [
       "<div>\n",
       "<style scoped>\n",
       "    .dataframe tbody tr th:only-of-type {\n",
       "        vertical-align: middle;\n",
       "    }\n",
       "\n",
       "    .dataframe tbody tr th {\n",
       "        vertical-align: top;\n",
       "    }\n",
       "\n",
       "    .dataframe thead th {\n",
       "        text-align: right;\n",
       "    }\n",
       "</style>\n",
       "<table border=\"1\" class=\"dataframe\">\n",
       "  <thead>\n",
       "    <tr style=\"text-align: right;\">\n",
       "      <th></th>\n",
       "      <th>calle</th>\n",
       "      <th>desde</th>\n",
       "      <th>hasta</th>\n",
       "      <th>par</th>\n",
       "      <th>cp</th>\n",
       "      <th>cpa</th>\n",
       "      <th>provincia</th>\n",
       "      <th>localidad</th>\n",
       "    </tr>\n",
       "  </thead>\n",
       "  <tbody>\n",
       "    <tr>\n",
       "      <th>2523463</th>\n",
       "      <td>calle zuloaga</td>\n",
       "      <td>902</td>\n",
       "      <td>1000</td>\n",
       "      <td>True</td>\n",
       "      <td>1824</td>\n",
       "      <td>B1824OHH</td>\n",
       "      <td>buenos aires</td>\n",
       "      <td>lanus</td>\n",
       "    </tr>\n",
       "  </tbody>\n",
       "</table>\n",
       "</div>"
      ],
      "text/plain": [
       "                 calle  desde  hasta   par    cp       cpa     provincia  \\\n",
       "2523463  calle zuloaga    902   1000  True  1824  B1824OHH  buenos aires   \n",
       "\n",
       "        localidad  \n",
       "2523463     lanus  "
      ]
     },
     "execution_count": 3,
     "metadata": {},
     "output_type": "execute_result"
    }
   ],
   "source": [
    "def removeURL(x, num):\n",
    "    prov = x.split('/')\n",
    "    if (len(prov)==1):\n",
    "        return prov[0]\n",
    "    return prov[num]\n",
    "\n",
    "df['provincia'] = df['provincia'].apply(lambda x: removeURL(x, 4))\n",
    "df['localidad'] = df['localidad'].apply(lambda x: removeURL(x, 5))\n",
    "df['localidad'] = df['localidad'].str.replace('-', ' ')\n",
    "df['localidad'] = df['localidad'].str.lower()\n",
    "df['calle'] = df['calle'].str.lower()\n",
    "\n",
    "df.tail(1)"
   ]
  },
  {
   "cell_type": "markdown",
   "id": "8fa0a808",
   "metadata": {},
   "source": [
    "### csv con users de Lemon"
   ]
  },
  {
   "cell_type": "code",
   "execution_count": 4,
   "id": "f68b9ff0",
   "metadata": {},
   "outputs": [
    {
     "data": {
      "text/plain": [
       "(4152, 6)"
      ]
     },
     "execution_count": 4,
     "metadata": {},
     "output_type": "execute_result"
    }
   ],
   "source": [
    "df_lemon = pd.read_csv('lemoncash_ar_muestra.csv')\n",
    "df_lemon.columns = ['calle', 'num', 'localidad', 'prov', 'cp']\n",
    "df_lemon = df_lemon[df_lemon['calle'].notnull()]\n",
    "df_lemon['calle'] = df_lemon['calle'].str.lower()\n",
    "df_lemon['num'] = df_lemon['num'].fillna(0).astype(int)\n",
    "df_lemon['par'] = (df_lemon['num'] % 2) == 0\n",
    "df_lemon['cp'] = pd.to_numeric(df_lemon['cp'])\n",
    "df_lemon.shape"
   ]
  },
  {
   "cell_type": "markdown",
   "id": "dd8f5bd4",
   "metadata": {},
   "source": [
    "#### normalizo todo para sacar tildes y ñ"
   ]
  },
  {
   "cell_type": "code",
   "execution_count": 5,
   "id": "2427279b",
   "metadata": {},
   "outputs": [],
   "source": [
    "def normalize(s):\n",
    "    replacements = (\n",
    "        (\"á\", \"a\"),\n",
    "        (\"é\", \"e\"),\n",
    "        (\"í\", \"i\"),\n",
    "        (\"ó\", \"o\"),\n",
    "        (\"ú\", \"u\"),\n",
    "        (\"ñ\", \"n\"),\n",
    "        (\"ü\", \"u\")\n",
    "    )\n",
    "    for a, b in replacements:\n",
    "        s = s.replace(a, b).replace(a.upper(), b.upper())\n",
    "    return s\n",
    "\n",
    "df_lemon['calle'] = df_lemon['calle'].apply(lambda x: normalize(str(x)))\n",
    "df['provincia'] = df['provincia'].apply(lambda x: normalize(str(x)))\n",
    "df['localidad'] = df['localidad'].apply(lambda x: normalize(str(x)))\n",
    "df['calle'] = df['calle'].apply(lambda x: normalize(str(x)))"
   ]
  },
  {
   "cell_type": "markdown",
   "id": "cd6cc243",
   "metadata": {},
   "source": [
    "#### Busco la letra de la prov (primer caracter del CPA)"
   ]
  },
  {
   "cell_type": "code",
   "execution_count": 6,
   "id": "80618aaf",
   "metadata": {},
   "outputs": [],
   "source": [
    "def province_letter(y):\n",
    "    x = y['prov']\n",
    "    if x == 'Salta':\n",
    "        return 'A'\n",
    "    elif x == 'Provincia de Buenos Aires':\n",
    "        return 'B'\n",
    "    elif x == 'Buenos Aires':\n",
    "        return 'C'\n",
    "    elif x == 'San Luis':\n",
    "        return 'D'\n",
    "    elif x == 'Entre Ríos':\n",
    "        return 'E'\n",
    "    elif x == 'La Rioja':\n",
    "        return 'F'\n",
    "    elif x == 'Santiago del Estero':\n",
    "        return 'G'\n",
    "    elif x == 'Chaco':\n",
    "        return 'H'\n",
    "    elif x == 'San Juan':\n",
    "        return 'J'\n",
    "    elif x == 'Catamarca':\n",
    "        return 'K'\n",
    "    elif x == 'La Pampa':\n",
    "        return 'L'\n",
    "    elif x == 'Mendoza':\n",
    "        return 'M'\n",
    "    elif x == 'Misiones':\n",
    "        return 'N'\n",
    "    elif x == 'Formosa':\n",
    "        return 'P'\n",
    "    elif x == 'Neuquén':\n",
    "        return 'Q'\n",
    "    elif x == 'Río Negro':\n",
    "        return 'R'\n",
    "    elif x == 'Santa Fe':\n",
    "        return 'S'\n",
    "    elif x == 'Tucumán':\n",
    "        return 'T'\n",
    "    elif x == 'Chubut':\n",
    "        return 'U'\n",
    "    elif x == 'Tierra del Fuego':\n",
    "        return 'V'\n",
    "    elif x == 'Corrientes':\n",
    "        return 'W'\n",
    "    elif x == 'Córdoba':\n",
    "        return 'X'\n",
    "    elif x == 'Jujuy':\n",
    "        return 'Y'\n",
    "    elif x == 'Santa Cruz':\n",
    "        return 'Z'\n",
    "    return ''"
   ]
  },
  {
   "cell_type": "code",
   "execution_count": 7,
   "id": "e042ceac",
   "metadata": {},
   "outputs": [],
   "source": [
    "df_lemon['letra'] = df_lemon.apply(lambda x: province_letter(x), axis=1)"
   ]
  },
  {
   "cell_type": "code",
   "execution_count": 8,
   "id": "1d2e832c",
   "metadata": {},
   "outputs": [
    {
     "data": {
      "text/plain": [
       "(4142, 7)"
      ]
     },
     "execution_count": 8,
     "metadata": {},
     "output_type": "execute_result"
    }
   ],
   "source": [
    "## filtro los que no tengo una prov conocida (brasil)\n",
    "df_lemon = df_lemon[df_lemon['letra'] != '']\n",
    "df_lemon.shape"
   ]
  },
  {
   "cell_type": "code",
   "execution_count": 9,
   "id": "2f98f38c",
   "metadata": {},
   "outputs": [],
   "source": [
    "df['alt-cp'] = df['cpa'].str[1:5]\n",
    "df['alt-cp'] = pd.to_numeric(df['alt-cp'])"
   ]
  },
  {
   "cell_type": "markdown",
   "id": "282d2b5f",
   "metadata": {},
   "source": [
    "### Funciones para buscar la mejor coincidencia de nombre de calle\n"
   ]
  },
  {
   "cell_type": "code",
   "execution_count": 10,
   "id": "1c34664f",
   "metadata": {},
   "outputs": [],
   "source": [
    "### Busca la calle más parecida dentro del subconjunto con el mismo CP\n",
    "def closest_match_difflib(x):\n",
    "    try:\n",
    "        df_new = df.loc[df['cp'] == x['cp']]\n",
    "        bestmatch = difflib.get_close_matches(str(x['calle']), df_new['calle'], 1, 0.4)\n",
    "        if len(bestmatch)>0:\n",
    "            return bestmatch[0]\n",
    "        return ''\n",
    "    except:\n",
    "        return ''"
   ]
  },
  {
   "cell_type": "code",
   "execution_count": 11,
   "id": "b5b1be3d",
   "metadata": {},
   "outputs": [],
   "source": [
    "## Idem anterior pero con otro algoritmo\n",
    "def closest_match_fuzzywuzzy(x):\n",
    "    try:\n",
    "        df_new = df.loc[x['letra']==df['cpa'].str[0:1]]\n",
    "        df_new = df.loc[df['cp'] == x['cp']]\n",
    "        bestmatch = process.extract(str(x['calle']), df_new['calle'], scorer=fuzz.token_sort_ratio, limit=1)\n",
    "        if len(bestmatch)>0 and bestmatch[0][1]>60:\n",
    "            return bestmatch[0][0]\n",
    "        return ''\n",
    "    except:\n",
    "        return ''\n",
    "\n",
    "## Idem anterior pero con otro algoritmo\n",
    "def closest_match_fuzzywuzzy2(x):\n",
    "    try:\n",
    "        df_new = df.loc[x['letra']==df['cpa'].str[0:1]]\n",
    "        df_new = df_new.loc[df_new['cp'] == x['cp']]\n",
    "        bestmatch = process.extract(str(x['calle']), df_new['calle'], scorer=fuzz.token_set_ratio, limit=1)\n",
    "        if len(bestmatch)>0 and bestmatch[0][1]>60:\n",
    "            return bestmatch[0][0]\n",
    "        return ''\n",
    "    except:\n",
    "        return ''\n"
   ]
  },
  {
   "cell_type": "code",
   "execution_count": 12,
   "id": "de8ca616",
   "metadata": {},
   "outputs": [
    {
     "name": "stderr",
     "output_type": "stream",
     "text": [
      "WARNING:root:Applied processor reduces input query to empty string, all comparisons will have score 0. [Query: '.']\n"
     ]
    },
    {
     "data": {
      "text/html": [
       "<div>\n",
       "<style scoped>\n",
       "    .dataframe tbody tr th:only-of-type {\n",
       "        vertical-align: middle;\n",
       "    }\n",
       "\n",
       "    .dataframe tbody tr th {\n",
       "        vertical-align: top;\n",
       "    }\n",
       "\n",
       "    .dataframe thead th {\n",
       "        text-align: right;\n",
       "    }\n",
       "</style>\n",
       "<table border=\"1\" class=\"dataframe\">\n",
       "  <thead>\n",
       "    <tr style=\"text-align: right;\">\n",
       "      <th></th>\n",
       "      <th>calle</th>\n",
       "      <th>num</th>\n",
       "      <th>localidad</th>\n",
       "      <th>prov</th>\n",
       "      <th>cp</th>\n",
       "      <th>par</th>\n",
       "      <th>letra</th>\n",
       "      <th>bestmatch_fuzzywuzzy2</th>\n",
       "    </tr>\n",
       "  </thead>\n",
       "  <tbody>\n",
       "    <tr>\n",
       "      <th>0</th>\n",
       "      <td>barrio luis vernet</td>\n",
       "      <td>82</td>\n",
       "      <td>Rawson</td>\n",
       "      <td>Chubut</td>\n",
       "      <td>9103.0</td>\n",
       "      <td>True</td>\n",
       "      <td>U</td>\n",
       "      <td></td>\n",
       "    </tr>\n",
       "    <tr>\n",
       "      <th>1</th>\n",
       "      <td>86 pelagio b. luna</td>\n",
       "      <td>2640</td>\n",
       "      <td>San Andres</td>\n",
       "      <td>Provincia de Buenos Aires</td>\n",
       "      <td>1651.0</td>\n",
       "      <td>True</td>\n",
       "      <td>B</td>\n",
       "      <td></td>\n",
       "    </tr>\n",
       "    <tr>\n",
       "      <th>2</th>\n",
       "      <td>lavalle</td>\n",
       "      <td>838</td>\n",
       "      <td>San Nicolás de Los Arroyos</td>\n",
       "      <td>Provincia de Buenos Aires</td>\n",
       "      <td>2900.0</td>\n",
       "      <td>True</td>\n",
       "      <td>B</td>\n",
       "      <td>calle lavalle</td>\n",
       "    </tr>\n",
       "    <tr>\n",
       "      <th>3</th>\n",
       "      <td>italia este</td>\n",
       "      <td>15</td>\n",
       "      <td>Corral de Bustos</td>\n",
       "      <td>Córdoba</td>\n",
       "      <td>2645.0</td>\n",
       "      <td>False</td>\n",
       "      <td>X</td>\n",
       "      <td>avenida italia</td>\n",
       "    </tr>\n",
       "    <tr>\n",
       "      <th>4</th>\n",
       "      <td>jose contin</td>\n",
       "      <td>1136</td>\n",
       "      <td>Puerto Madryn</td>\n",
       "      <td>Chubut</td>\n",
       "      <td>1136.0</td>\n",
       "      <td>True</td>\n",
       "      <td>U</td>\n",
       "      <td></td>\n",
       "    </tr>\n",
       "  </tbody>\n",
       "</table>\n",
       "</div>"
      ],
      "text/plain": [
       "                calle   num                   localidad  \\\n",
       "0  barrio luis vernet    82                      Rawson   \n",
       "1  86 pelagio b. luna  2640                  San Andres   \n",
       "2             lavalle   838  San Nicolás de Los Arroyos   \n",
       "3         italia este    15            Corral de Bustos   \n",
       "4         jose contin  1136               Puerto Madryn   \n",
       "\n",
       "                        prov      cp    par letra bestmatch_fuzzywuzzy2  \n",
       "0                     Chubut  9103.0   True     U                        \n",
       "1  Provincia de Buenos Aires  1651.0   True     B                        \n",
       "2  Provincia de Buenos Aires  2900.0   True     B         calle lavalle  \n",
       "3                    Córdoba  2645.0  False     X        avenida italia  \n",
       "4                     Chubut  1136.0   True     U                        "
      ]
     },
     "execution_count": 12,
     "metadata": {},
     "output_type": "execute_result"
    }
   ],
   "source": [
    "#df_lemon['bestmatch_difflib'] = df_lemon.apply(lambda x: closest_match_difflib(x), axis=1)\n",
    "#df_lemon['bestmatch_fuzzywuzzy'] = df_lemon.apply(lambda x: closest_match_fuzzywuzzy(x), axis=1)\n",
    "df_lemon['bestmatch_fuzzywuzzy2'] = df_lemon.apply(lambda x: closest_match_fuzzywuzzy2(x), axis=1)\n",
    "df_lemon.head(5)"
   ]
  },
  {
   "cell_type": "code",
   "execution_count": 13,
   "id": "18ac6975",
   "metadata": {},
   "outputs": [
    {
     "data": {
      "text/plain": [
       "(2884, 8)"
      ]
     },
     "execution_count": 13,
     "metadata": {},
     "output_type": "execute_result"
    }
   ],
   "source": [
    "## a cuantos le encontré match\n",
    "df_lemon[df_lemon['bestmatch_fuzzywuzzy2']!=''].shape"
   ]
  },
  {
   "cell_type": "markdown",
   "id": "afb7b350",
   "metadata": {},
   "source": [
    "### Funcion para buscar el CPA"
   ]
  },
  {
   "cell_type": "code",
   "execution_count": 14,
   "id": "e9e3cd33",
   "metadata": {},
   "outputs": [],
   "source": [
    "def find_CPA(x):\n",
    "    if x['bestmatch_fuzzywuzzy2'] == '':\n",
    "        return ''\n",
    "    \n",
    "    ## Busco dentro del mismo cp\n",
    "    df_new = df[df['cp'] == x['cp']]\n",
    "    df_new = df_new[df_new['calle'] == x['bestmatch_fuzzywuzzy2']]\n",
    "    df_new = df_new[(df_new[\"desde\"]<=x['num']) & (df_new[\"hasta\"]>=x['num'])]\n",
    "    df_new = df_new[df_new['par']==x['par']]\n",
    "    if len(df_new) != 0:\n",
    "        return df_new['cpa'].tolist()\n",
    "    \n",
    "    ## Busco dentro del mismo cpa\n",
    "    df_new = df[df['cpa'].str[0:1] == x['cp']]\n",
    "    df_new = df_new[df_new['calle'] == x['bestmatch_fuzzywuzzy2']]\n",
    "    df_new = df_new[(df_new[\"desde\"]<=x['num']) & (df_new[\"hasta\"]>=x['num'])]\n",
    "    df_new = df_new[df_new['par']==x['par']]\n",
    "    if len(df_new) != 0:\n",
    "        return df_new['cpa'].tolist()\n",
    "    \n",
    "    ## Busco dentro de la misma letra\n",
    "    df_new = df[df['cpa'].str[0:1] == x['letra']]\n",
    "    df_new = df_new[df_new['calle'] == x['bestmatch_fuzzywuzzy2']]\n",
    "    df_new = df_new[(df_new[\"desde\"]<=x['num']) & (df_new[\"hasta\"]>=x['num'])]\n",
    "    df_new = df_new[df_new['par']==x['par']]\n",
    "    return df_new['cpa'].tolist()"
   ]
  },
  {
   "cell_type": "code",
   "execution_count": 15,
   "id": "09406150",
   "metadata": {},
   "outputs": [],
   "source": [
    "pd.options.mode.chained_assignment = None\n",
    "df_lemon['cpa'] = df_lemon.apply(lambda x: find_CPA(x), axis=1)"
   ]
  },
  {
   "cell_type": "code",
   "execution_count": 18,
   "id": "00d8625a",
   "metadata": {},
   "outputs": [],
   "source": [
    "def to_unique_list(x):\n",
    "    return list(dict.fromkeys(x['cpa']))"
   ]
  },
  {
   "cell_type": "code",
   "execution_count": 21,
   "id": "ae846aa1",
   "metadata": {},
   "outputs": [
    {
     "data": {
      "text/plain": [
       "(2283, 9)"
      ]
     },
     "execution_count": 21,
     "metadata": {},
     "output_type": "execute_result"
    }
   ],
   "source": [
    "## de cuantos encontré el CPA \n",
    "df_lemon['cpa'] = df_lemon.apply(lambda x: to_unique_list(x), axis=1)\n",
    "df_lemon[df_lemon['cpa'].apply(lambda x: len(x) == 1)].shape"
   ]
  },
  {
   "cell_type": "markdown",
   "id": "99d32168",
   "metadata": {},
   "source": [
    "### Busco potenciales CPAs"
   ]
  },
  {
   "cell_type": "code",
   "execution_count": 22,
   "id": "c5106261",
   "metadata": {},
   "outputs": [],
   "source": [
    "def find_CPAs(x):\n",
    "    if len(x['cpa'])>0: # si ya encontré antes no hago nada.\n",
    "        return x['cpa']\n",
    "    \n",
    "    df_new = df[(df['cp'] == x['cp']) | (df['alt-cp'] == x['cp'])]\n",
    "    df_new = df_new[df_new['cpa'].str[0:1] == x['letra']]\n",
    "    return df_new['cpa'].tolist()"
   ]
  },
  {
   "cell_type": "code",
   "execution_count": 23,
   "id": "69a59f4b",
   "metadata": {},
   "outputs": [],
   "source": [
    "pd.options.mode.chained_assignment = None\n",
    "df_lemon['cpa'] = df_lemon.apply(lambda x: find_CPAs(x), axis=1)"
   ]
  },
  {
   "cell_type": "code",
   "execution_count": 24,
   "id": "a129a07f",
   "metadata": {},
   "outputs": [],
   "source": [
    "df_lemon['cpa'] = df_lemon.apply(lambda x: to_unique_list(x), axis=1)"
   ]
  },
  {
   "cell_type": "code",
   "execution_count": null,
   "id": "79a79317",
   "metadata": {},
   "outputs": [],
   "source": []
  },
  {
   "cell_type": "code",
   "execution_count": null,
   "id": "a679884b",
   "metadata": {},
   "outputs": [],
   "source": []
  },
  {
   "cell_type": "markdown",
   "id": "d209e12e",
   "metadata": {},
   "source": [
    "### analizo los que no encontré un CPA único"
   ]
  },
  {
   "cell_type": "code",
   "execution_count": 28,
   "id": "3736af8c",
   "metadata": {},
   "outputs": [
    {
     "name": "stdout",
     "output_type": "stream",
     "text": [
      "total sin CPA (1848, 9)\n"
     ]
    }
   ],
   "source": [
    "df_withou_cpa = df_lemon[df_lemon['cpa'].apply(lambda x: len(x) != 1)]\n",
    "print('total sin CPA ' + str(df_withou_cpa.shape))"
   ]
  },
  {
   "cell_type": "code",
   "execution_count": null,
   "id": "93423684",
   "metadata": {},
   "outputs": [],
   "source": []
  },
  {
   "cell_type": "code",
   "execution_count": 29,
   "id": "29f66b5a",
   "metadata": {},
   "outputs": [
    {
     "name": "stderr",
     "output_type": "stream",
     "text": [
      "WARNING:root:Applied processor reduces input query to empty string, all comparisons will have score 0. [Query: '.']\n"
     ]
    }
   ],
   "source": [
    "## Hago una segunda busqueda por calles en toda la provincia\n",
    "def closest_match_fuzzywuzzy2_prov(x):\n",
    "    if len(x['cpa'])==1: # si ya encontré antes no hago nada.\n",
    "        return x['bestmatch_fuzzywuzzy2']\n",
    "    if x['bestmatch_fuzzywuzzy2'] != '':\n",
    "        return x['bestmatch_fuzzywuzzy2']\n",
    "    try:\n",
    "        df_new = df.loc[x['letra']==df['cpa'].str[0:1]]\n",
    "        bestmatch = process.extract(str(x['calle']), df_new['calle'], scorer=fuzz.token_set_ratio, limit=1)\n",
    "        if len(bestmatch)>0 and bestmatch[0][1]>60:\n",
    "            return bestmatch[0][0]\n",
    "        return ''\n",
    "    except:\n",
    "        return ''\n",
    "    \n",
    "df_lemon['bestmatch_fuzzywuzzy2'] = df_lemon.apply(lambda x: closest_match_fuzzywuzzy2_prov(x), axis=1)    \n"
   ]
  },
  {
   "cell_type": "code",
   "execution_count": 30,
   "id": "0e8ab723",
   "metadata": {},
   "outputs": [
    {
     "name": "stdout",
     "output_type": "stream",
     "text": [
      "total sin CPA (1848, 9)\n",
      "tiene num (1227, 9)\n",
      "no tiene num (429, 9)\n"
     ]
    }
   ],
   "source": [
    "### Casos en los que tengo un match del nombre de la calle\n",
    "df_withou_cpa = df_lemon[df_lemon['cpa'].apply(lambda x: len(x) != 1)]\n",
    "print('total sin CPA ' + str(df_withou_cpa.shape))\n",
    "df_lemon_new1 = df_withou_cpa[df_withou_cpa['bestmatch_fuzzywuzzy2']!='']\n",
    "print('tiene num ' + str(df_lemon_new1[df_lemon_new1['num']!=0].shape))\n",
    "print('no tiene num ' + str(df_lemon_new1[df_lemon_new1['num'] == 0].shape))\n"
   ]
  },
  {
   "cell_type": "code",
   "execution_count": 31,
   "id": "4cb63308",
   "metadata": {},
   "outputs": [],
   "source": [
    "def search_by_street_and_cp(x):\n",
    "    if len(x['cpa'])==1: # si ya encontré antes no hago nada.\n",
    "        return x['bestmatch_fuzzywuzzy2']\n",
    "    if x['bestmatch_fuzzywuzzy2'] == '':\n",
    "        return x['bestmatch_fuzzywuzzy2']\n",
    "    \n",
    "    df_calle = df[df['calle'] == x['bestmatch_fuzzywuzzy2']]\n",
    "    df_cp = df_calle[df_calle['cpa'].str[0:1] == x['letra']]\n",
    "    return df_cp['cpa'].tolist()"
   ]
  },
  {
   "cell_type": "code",
   "execution_count": 32,
   "id": "d3d8996e",
   "metadata": {},
   "outputs": [],
   "source": [
    "df_lemon['cpa-v2'] = df_lemon.apply(lambda x: search_by_street_and_cp(x), axis=1)"
   ]
  },
  {
   "cell_type": "code",
   "execution_count": null,
   "id": "8b6330ca",
   "metadata": {},
   "outputs": [],
   "source": []
  },
  {
   "cell_type": "code",
   "execution_count": 33,
   "id": "ca2c0381",
   "metadata": {},
   "outputs": [],
   "source": [
    "## Si no tiene num -> le asigno el 1ero\n",
    "## Si tiene num -> busco el más cercano\n",
    "def get_cpa(x):\n",
    "    if len(x['cpa'])==1: # si ya encontré antes no hago nada.\n",
    "        return x['cpa']\n",
    "    if x['bestmatch_fuzzywuzzy2'] == '':\n",
    "        return x['cpa']\n",
    "    \n",
    "    if x['num'] == 0:\n",
    "        return [x['cpa-v2'][0]]\n",
    "    else:\n",
    "        df_cp = df[df['calle'] == x['bestmatch_fuzzywuzzy2']]\n",
    "        df_cp = df_cp[(df_cp['cp'] == x['cp']) | (df_cp['alt-cp'] == x['cp']) | (df_cp['cpa'].str[0:1] == x['letra'])]\n",
    "        dist = (df_cp['desde'] - x['num']).abs()\n",
    "        return [df_cp.loc[dist.idxmin()]['cpa']]\n",
    "    \n",
    "df_lemon['cpa'] = df_lemon.apply(lambda x: get_cpa(x), axis=1)\n"
   ]
  },
  {
   "cell_type": "code",
   "execution_count": null,
   "id": "51b216e5",
   "metadata": {},
   "outputs": [],
   "source": []
  },
  {
   "cell_type": "code",
   "execution_count": 34,
   "id": "720387cc",
   "metadata": {},
   "outputs": [
    {
     "name": "stdout",
     "output_type": "stream",
     "text": [
      "total sin CPA (192, 10)\n",
      "tiene num (192, 10)\n",
      "no tiene num (0, 10)\n"
     ]
    }
   ],
   "source": [
    "## 2d0 casos que aun no tengo nombre de calle similar\n",
    "df_withou_cpa = df_lemon[df_lemon['cpa'].apply(lambda x: len(x) != 1)]\n",
    "df_lemon_new2 = df_withou_cpa[df_withou_cpa['bestmatch_fuzzywuzzy2']=='']\n",
    "print('total sin CPA ' + str(df_withou_cpa.shape))\n",
    "\n",
    "print('tiene num ' + str(df_lemon_new2[df_lemon_new2['num'].notnull()].shape))\n",
    "print('no tiene num ' + str(df_lemon_new2[df_lemon_new2['num'].isnull()].shape))\n"
   ]
  },
  {
   "cell_type": "code",
   "execution_count": null,
   "id": "12f72ba5",
   "metadata": {},
   "outputs": [],
   "source": []
  },
  {
   "cell_type": "code",
   "execution_count": null,
   "id": "be8bf28a",
   "metadata": {},
   "outputs": [],
   "source": []
  },
  {
   "cell_type": "markdown",
   "id": "ede7c13d",
   "metadata": {},
   "source": [
    "### Exporto a csv"
   ]
  },
  {
   "cell_type": "code",
   "execution_count": 35,
   "id": "faf06249",
   "metadata": {},
   "outputs": [],
   "source": [
    "df_lemon.to_csv('resultados-cpas-ultimo.csv', sep=',')"
   ]
  },
  {
   "cell_type": "code",
   "execution_count": null,
   "id": "8cdc3ff9",
   "metadata": {},
   "outputs": [],
   "source": []
  }
 ],
 "metadata": {
  "kernelspec": {
   "display_name": "Python 3 (ipykernel)",
   "language": "python",
   "name": "python3"
  },
  "language_info": {
   "codemirror_mode": {
    "name": "ipython",
    "version": 3
   },
   "file_extension": ".py",
   "mimetype": "text/x-python",
   "name": "python",
   "nbconvert_exporter": "python",
   "pygments_lexer": "ipython3",
   "version": "3.8.9"
  }
 },
 "nbformat": 4,
 "nbformat_minor": 5
}
